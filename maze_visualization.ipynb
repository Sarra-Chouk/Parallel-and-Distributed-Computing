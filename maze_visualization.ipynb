{
 "cells": [
  {
   "cell_type": "markdown",
   "metadata": {},
   "source": [
    "# Maze Visualization Demo\n",
    "\n",
    "This notebook demonstrates the visualization capabilities of the maze runner game using the visualization utilities from the project."
   ]
  },
  {
   "cell_type": "code",
   "execution_count": 1,
   "metadata": {},
   "outputs": [
    {
     "name": "stdout",
     "output_type": "stream",
     "text": [
      "pygame 2.6.1 (SDL 2.28.4, Python 3.12.9)\n",
      "Hello from the pygame community. https://www.pygame.org/contribute.html\n"
     ]
    }
   ],
   "source": [
    "import sys\n",
    "import pygame\n",
    "import time\n",
    "import matplotlib.pyplot as plt\n",
    "import numpy as np\n",
    "import pandas as pd\n",
    "\n",
    "# Import our maze game modules\n",
    "from src.maze import create_maze\n",
    "from src.visualization import visualize_maze, JupyterExplorer\n",
    "from src.explorer import Explorer\n",
    "from src.constants import WINDOW_SIZE"
   ]
  },
  {
   "cell_type": "markdown",
   "metadata": {},
   "source": [
    "## Initialize Pygame for Jupyter\n",
    "\n",
    "We need to initialize Pygame in a way that works with Jupyter notebooks."
   ]
  },
  {
   "cell_type": "code",
   "execution_count": 2,
   "metadata": {},
   "outputs": [],
   "source": [
    "# Initialize Pygame\n",
    "pygame.init()\n",
    "screen = pygame.display.set_mode((WINDOW_SIZE, WINDOW_SIZE))\n",
    "pygame.display.set_caption(\"Maze Explorer - Jupyter Visualization\")"
   ]
  },
  {
   "cell_type": "markdown",
   "metadata": {},
   "source": [
    "## Create and Visualize a Random Maze\n",
    "\n",
    "Let's create a random maze and visualize it using the visualization utilities."
   ]
  },
  {
   "cell_type": "code",
   "execution_count": 3,
   "metadata": {},
   "outputs": [
    {
     "data": {
      "image/png": "[encoded data removed]",
      "text/plain": [
       "<Figure size 1000x1000 with 1 Axes>"
      ]
     },
     "metadata": {},
     "output_type": "display_data"
    }
   ],
   "source": [
    "# Create and visualize a random maze\n",
    "maze = create_maze(30, 30, \"random\")\n",
    "visualize_maze(maze, screen)"
   ]
  },
  {
   "cell_type": "markdown",
   "metadata": {},
   "source": [
    "## Animated Maze Solving\n",
    "\n",
    "Let's use the JupyterExplorer to solve the maze with animation."
   ]
  },
  {
   "cell_type": "code",
   "execution_count": 4,
   "metadata": {},
   "outputs": [
    {
     "name": "stdout",
     "output_type": "stream",
     "text": [
      "\n",
      "=== Maze Exploration Statistics ===\n",
      "Total time taken: 13.40 seconds\n",
      "Total moves made: 73\n",
      "Number of backtrack operations: 0\n",
      "Average moves per second: 5.45\n",
      "==================================\n",
      "\n",
      "Maze solved in 13.40 seconds\n",
      "Number of moves: 73\n"
     ]
    }
   ],
   "source": [
    "# Create maze and explorer\n",
    "maze = create_maze(30, 30, \"random\")\n",
    "explorer = JupyterExplorer(maze, screen)\n",
    "\n",
    "# Run the explorer\n",
    "time_taken, moves = explorer.solve()\n",
    "print(f\"Maze solved in {time_taken:.2f} seconds\")\n",
    "print(f\"Number of moves: {len(moves)}\")"
   ]
  },
  {
   "cell_type": "markdown",
   "metadata": {},
   "source": [
    "## Compare Different Maze Types\n",
    "\n",
    "Let's compare the visualization of random and static mazes."
   ]
  },
  {
   "cell_type": "code",
   "execution_count": 5,
   "metadata": {},
   "outputs": [
    {
     "name": "stdout",
     "output_type": "stream",
     "text": [
      "Random Maze:\n"
     ]
    },
    {
     "ename": "error",
     "evalue": "display Surface quit",
     "output_type": "error",
     "traceback": [
      "\u001b[31m---------------------------------------------------------------------------\u001b[39m",
      "\u001b[31merror\u001b[39m                                     Traceback (most recent call last)",
      "\u001b[36mCell\u001b[39m\u001b[36m \u001b[39m\u001b[32mIn[5]\u001b[39m\u001b[32m, line 4\u001b[39m\n\u001b[32m      2\u001b[39m random_maze = create_maze(\u001b[32m30\u001b[39m, \u001b[32m30\u001b[39m, \u001b[33m\"\u001b[39m\u001b[33mrandom\u001b[39m\u001b[33m\"\u001b[39m)\n\u001b[32m      3\u001b[39m \u001b[38;5;28mprint\u001b[39m(\u001b[33m\"\u001b[39m\u001b[33mRandom Maze:\u001b[39m\u001b[33m\"\u001b[39m)\n\u001b[32m----> \u001b[39m\u001b[32m4\u001b[39m \u001b[43mvisualize_maze\u001b[49m\u001b[43m(\u001b[49m\u001b[43mrandom_maze\u001b[49m\u001b[43m,\u001b[49m\u001b[43m \u001b[49m\u001b[43mscreen\u001b[49m\u001b[43m)\u001b[49m\n\u001b[32m      6\u001b[39m \u001b[38;5;66;03m# Create and visualize a static maze\u001b[39;00m\n\u001b[32m      7\u001b[39m static_maze = create_maze(\u001b[32m30\u001b[39m, \u001b[32m30\u001b[39m, \u001b[33m\"\u001b[39m\u001b[33mstatic\u001b[39m\u001b[33m\"\u001b[39m)\n",
      "\u001b[36mFile \u001b[39m\u001b[32m~/Parallel-and-Distributed-Computing/src/visualization.py:22\u001b[39m, in \u001b[36mvisualize_maze\u001b[39m\u001b[34m(maze, screen)\u001b[39m\n\u001b[32m     14\u001b[39m \u001b[38;5;250m\u001b[39m\u001b[33;03m\"\"\"\u001b[39;00m\n\u001b[32m     15\u001b[39m \u001b[33;03mVisualize a maze on the given screen.\u001b[39;00m\n\u001b[32m     16\u001b[39m \u001b[33;03m\u001b[39;00m\n\u001b[32m   (...)\u001b[39m\u001b[32m     19\u001b[39m \u001b[33;03m    screen: The Pygame screen to draw on\u001b[39;00m\n\u001b[32m     20\u001b[39m \u001b[33;03m\"\"\"\u001b[39;00m\n\u001b[32m     21\u001b[39m \u001b[38;5;66;03m# Clear the screen\u001b[39;00m\n\u001b[32m---> \u001b[39m\u001b[32m22\u001b[39m \u001b[43mscreen\u001b[49m\u001b[43m.\u001b[49m\u001b[43mfill\u001b[49m\u001b[43m(\u001b[49m\u001b[43mWHITE\u001b[49m\u001b[43m)\u001b[49m\n\u001b[32m     24\u001b[39m \u001b[38;5;66;03m# Draw maze\u001b[39;00m\n\u001b[32m     25\u001b[39m \u001b[38;5;28;01mfor\u001b[39;00m y \u001b[38;5;129;01min\u001b[39;00m \u001b[38;5;28mrange\u001b[39m(maze.height):\n",
      "\u001b[31merror\u001b[39m: display Surface quit"
     ]
    }
   ],
   "source": [
    "# Create and visualize a random maze\n",
    "random_maze = create_maze(30, 30, \"random\")\n",
    "print(\"Random Maze:\")\n",
    "visualize_maze(random_maze, screen)\n",
    "\n",
    "# Create and visualize a static maze\n",
    "static_maze = create_maze(30, 30, \"static\")\n",
    "print(\"Static Maze:\")\n",
    "visualize_maze(static_maze, screen)"
   ]
  },
  {
   "cell_type": "markdown",
   "metadata": {},
   "source": [
    "## Performance Analysis\n",
    "\n",
    "Let's analyze the performance of the automated explorer on different maze types."
   ]
  },
  {
   "cell_type": "code",
   "execution_count": 7,
   "metadata": {},
   "outputs": [
    {
     "name": "stdout",
     "output_type": "stream",
     "text": [
      "\n",
      "=== Maze Exploration Statistics ===\n",
      "Total time taken: 0.00 seconds\n",
      "Total moves made: 305\n",
      "Number of backtrack operations: 0\n",
      "Average moves per second: 1167210.51\n",
      "==================================\n",
      "\n",
      "\n",
      "=== Maze Exploration Statistics ===\n",
      "Total time taken: 0.00 seconds\n",
      "Total moves made: 477\n",
      "Number of backtrack operations: 0\n",
      "Average moves per second: 1205957.21\n",
      "==================================\n",
      "\n",
      "\n",
      "=== Maze Exploration Statistics ===\n",
      "Total time taken: 0.00 seconds\n",
      "Total moves made: 128\n",
      "Number of backtrack operations: 0\n",
      "Average moves per second: 1228537.56\n",
      "==================================\n",
      "\n",
      "\n",
      "=== Maze Exploration Statistics ===\n",
      "Total time taken: 0.00 seconds\n",
      "Total moves made: 1279\n",
      "Number of backtrack operations: 0\n",
      "Average moves per second: 978212.04\n",
      "==================================\n",
      "\n",
      "\n",
      "=== Maze Exploration Statistics ===\n",
      "Total time taken: 0.00 seconds\n",
      "Total moves made: 1279\n",
      "Number of backtrack operations: 0\n",
      "Average moves per second: 1099285.82\n",
      "==================================\n",
      "\n",
      "\n",
      "=== Maze Exploration Statistics ===\n",
      "Total time taken: 0.00 seconds\n",
      "Total moves made: 1279\n",
      "Number of backtrack operations: 0\n",
      "Average moves per second: 1277873.94\n",
      "==================================\n",
      "\n",
      "Simulation Done\n",
      "Exploration Results:\n",
      "           time_taken        moves  moves_per_second\n",
      "maze_type                                           \n",
      "random       0.000254   303.333333      1.200568e+06\n",
      "static       0.001157  1279.000000      1.118457e+06\n"
     ]
    }
   ],
   "source": [
    "def run_exploration(maze_type, width, height):\n",
    "    maze = create_maze(width, height, maze_type)\n",
    "    explorer = Explorer(maze, visualize=False)\n",
    "    start_time = time.time()\n",
    "    time_taken, moves = explorer.solve()\n",
    "    return {\n",
    "        'maze_type': maze_type,\n",
    "        'time_taken': time_taken,\n",
    "        'moves': len(moves),\n",
    "        'moves_per_second': len(moves) / time_taken\n",
    "    }\n",
    "\n",
    "# Run multiple explorations\n",
    "results = []\n",
    "for maze_type in ['random', 'static']:\n",
    "    for _ in range(3):  # Run each type 3 times\n",
    "        result = run_exploration(maze_type, 30, 30)\n",
    "        results.append(result)\n",
    "print(\"Simulation Done\")\n",
    "# Display results\n",
    "df = pd.DataFrame(results)\n",
    "print(\"Exploration Results:\")\n",
    "print(df.groupby('maze_type').mean())"
   ]
  }
 ],
 "metadata": {
  "kernelspec": {
   "display_name": "Python 3",
   "language": "python",
   "name": "python3"
  },
  "language_info": {
   "codemirror_mode": {
    "name": "ipython",
    "version": 3
   },
   "file_extension": ".py",
   "mimetype": "text/x-python",
   "name": "python",
   "nbconvert_exporter": "python",
   "pygments_lexer": "ipython3",
   "version": "3.12.9"
  }
 },
 "nbformat": 4,
 "nbformat_minor": 4
}
