{
 "cells": [
  {
   "cell_type": "markdown",
   "metadata": {},
   "source": [
    "# <div style=\"text-align: center;\">**Assignment 1 – Part 1: Multiprocessing**</div>"
   ]
  },
  {
   "cell_type": "code",
   "execution_count": 1,
   "metadata": {},
   "outputs": [],
   "source": [
    "# Necessary imports\n",
    "\n",
    "import time\n",
    "import random\n",
    "import multiprocessing\n",
    "from concurrent.futures import ProcessPoolExecutor"
   ]
  },
  {
   "cell_type": "markdown",
   "metadata": {},
   "source": [
    "### **Square Program**"
   ]
  },
  {
   "cell_type": "code",
   "execution_count": 2,
   "metadata": {},
   "outputs": [],
   "source": [
    "def square(n):\n",
    "    return n * n\n",
    "\n",
    "# Create a list of 10⁶ random integers (range 1 to 100)\n",
    "numbers6 = [random.randint(1, 100) for _ in range(10**6)]"
   ]
  },
  {
   "cell_type": "markdown",
   "metadata": {},
   "source": [
    "## **Test 1: 10⁶ Integers List**"
   ]
  },
  {
   "cell_type": "markdown",
   "metadata": {},
   "source": [
    "### **Sequential Version**"
   ]
  },
  {
   "cell_type": "code",
   "execution_count": 12,
   "metadata": {},
   "outputs": [
    {
     "name": "stdout",
     "output_type": "stream",
     "text": [
      "First 10 list elements: [58, 26, 85, 22, 15, 66, 58, 37, 26, 66]\n",
      "\n",
      "First 10 result elements: [3364, 676, 7225, 484, 225, 4356, 3364, 1369, 676, 4356]\n",
      "\n",
      "Sequential execution time for 10⁶ numbers: 0.0549 seconds\n"
     ]
    }
   ],
   "source": [
    "start_seq = time.time()\n",
    "results_seq = [square(n) for n in numbers6]\n",
    "end_seq = time.time()\n",
    "seq_time = end_seq - start_seq\n",
    "\n",
    "print(f\"First 10 list elements: {numbers6[:10]}\")\n",
    "print(f\"\\nFirst 10 result elements: {results_seq[:10]}\")\n",
    "print(f\"\\nSequential execution time for 10⁶ numbers: {seq_time:.4f} seconds\")"
   ]
  },
  {
   "cell_type": "markdown",
   "metadata": {},
   "source": [
    "### **Multiprocessing Version (Process per Number)**"
   ]
  },
  {
   "cell_type": "code",
   "execution_count": 4,
   "metadata": {},
   "outputs": [
    {
     "name": "stderr",
     "output_type": "stream",
     "text": [
      "Exception ignored in: <function _releaseLock at 0x7fa077ec6e80>\n",
      "Traceback (most recent call last):\n",
      "  File \"/home/student/anaconda3/envs/parallel/lib/python3.12/logging/__init__.py\", line 243, in _releaseLock\n",
      "    def _releaseLock():\n",
      "    \n",
      "KeyboardInterrupt: \n"
     ]
    }
   ],
   "source": [
    "def worker_square(n, output, index):\n",
    "    output[index] = square(n)\n",
    "    \n",
    "numbers = [random.randint(1, 100) for _ in range(10**6)]\n",
    "\n",
    "manager = multiprocessing.Manager()\n",
    "output = manager.list([0] * len(numbers6))\n",
    "processes = []\n",
    "\n",
    "start_mp1 = time.time()\n",
    "for idx, num in enumerate(numbers):\n",
    "    p = multiprocessing.Process(target=worker_square, args=(num, output, idx))\n",
    "    processes.append(p)\n",
    "    p.start()\n",
    "    \n",
    "for p in processes:\n",
    "    p.join()\n",
    "end_mp1 = time.time()\n",
    "mp1_time = end_mp1 - start_mp1\n",
    "\n",
    "print(f\"First 10 list elements: {numbers6[:10]}\")\n",
    "print(f\"\\nFirst 10 result elements: {list(output)[:10]}\")\n",
    "print(f\"\\nProcess per number multiprocessing execution time for 10⁶ numbers: {mp1_time:.4f} seconds\")"
   ]
  },
  {
   "cell_type": "markdown",
   "metadata": {},
   "source": [
    "### **Multiprocessing Version (Pooling with map())**"
   ]
  },
  {
   "cell_type": "code",
   "execution_count": 9,
   "metadata": {},
   "outputs": [
    {
     "name": "stdout",
     "output_type": "stream",
     "text": [
      "First 10 list elements: [58, 26, 85, 22, 15, 66, 58, 37, 26, 66]\n",
      "\n",
      "First 10 result elements: [3364, 676, 7225, 484, 225, 4356, 3364, 1369, 676, 4356]\n",
      "\n",
      "Pooling with map() multiprocessing execution time for 10⁶ numbers: 0.1427 seconds\n"
     ]
    }
   ],
   "source": [
    "start_mp2 = time.time()\n",
    "with multiprocessing.Pool() as pool:\n",
    "    results_map = pool.map(square, numbers6)\n",
    "end_mp2 = time.time()\n",
    "mp2_time = end_mp2 - start_mp2\n",
    "\n",
    "print(f\"First 10 list elements: {numbers6[:10]}\")\n",
    "print(f\"\\nFirst 10 result elements: {list(results_map)[:10]}\")\n",
    "print(f\"\\nPooling with map() multiprocessing execution time for 10⁶ numbers: {mp2_time:.4f} seconds\")"
   ]
  },
  {
   "cell_type": "markdown",
   "metadata": {},
   "source": [
    "### **Multiprocessing Version (Pooling with apply())**"
   ]
  },
  {
   "cell_type": "code",
   "execution_count": 10,
   "metadata": {},
   "outputs": [
    {
     "name": "stdout",
     "output_type": "stream",
     "text": [
      "First 10 list elements: [58, 26, 85, 22, 15, 66, 58, 37, 26, 66]\n",
      "\n",
      "First 10 result elements: [3364, 676, 7225, 484, 225, 4356, 3364, 1369, 676, 4356]\n",
      "\n",
      "Pooling with apply() multiprocessing execution time for 10⁶ numbers: 164.6897 seconds\n"
     ]
    }
   ],
   "source": [
    "start_mp3 = time.time()\n",
    "results_apply = []\n",
    "with multiprocessing.Pool() as pool:\n",
    "    for n in numbers6:\n",
    "        result = pool.apply(square, (n,))\n",
    "        results_apply.append(result)\n",
    "end_mp3 = time.time()\n",
    "mp3_time = end_mp3 - start_mp3\n",
    "\n",
    "print(f\"First 10 list elements: {numbers6[:10]}\")\n",
    "print(f\"\\nFirst 10 result elements: {results_map[:10]}\")\n",
    "print(f\"\\nPooling with apply() multiprocessing execution time for 10⁶ numbers: {mp3_time:.4f} seconds\")"
   ]
  },
  {
   "cell_type": "markdown",
   "metadata": {},
   "source": [
    "### **Multiprocessing Version (concurrent futures)**"
   ]
  },
  {
   "cell_type": "code",
   "execution_count": 11,
   "metadata": {},
   "outputs": [
    {
     "name": "stdout",
     "output_type": "stream",
     "text": [
      "First 10 list elements: [58, 26, 85, 22, 15, 66, 58, 37, 26, 66]\n",
      "\n",
      "First 10 result elements: [3364, 676, 7225, 484, 225, 4356, 3364, 1369, 676, 4356]\n",
      "\n",
      "Pooling with concurrent futures multiprocessing execution time for 10⁶ numbers: 107.7498 seconds\n"
     ]
    }
   ],
   "source": [
    "start_mp4 = time.time()\n",
    "with ProcessPoolExecutor() as executor:\n",
    "    results_executor = list(executor.map(square, numbers6))\n",
    "end_mp4 = time.time()\n",
    "mp4_time = end_mp4 - start_mp4\n",
    "\n",
    "print(f\"First 10 list elements: {numbers6[:10]}\")\n",
    "print(f\"\\nFirst 10 result elements: {results_executor[:10]}\")\n",
    "print(f\"\\nPooling with concurrent futures multiprocessing execution time for 10⁶ numbers: {mp4_time:.4f} seconds\")"
   ]
  },
  {
   "cell_type": "markdown",
   "metadata": {},
   "source": [
    "<style>\n",
    "    .styled-title {\n",
    "        font-weight: bold;\n",
    "        font-size: 12px;\n",
    "        color: #ffffff;\n",
    "        background: linear-gradient(135deg, #007BFF, #6610f2);\n",
    "        padding: 5px 10px;\n",
    "        border-radius: 8px;\n",
    "        display: inline-block;\n",
    "    }\n",
    "</style>\n",
    "\n",
    "### **Conclusions for Squaring 10⁶ Integers**\n",
    "\n",
    "<span class=\"styled-title\">Sequential Execution:</span>\n",
    "\n",
    "  The sequential approach is extremely fast (0.05 sec) for squaring 10⁶ numbers because the computation itself is trivial.\n",
    "\n",
    "<span class=\"styled-title\">Process per Number:</span>\n",
    "\n",
    "  Creating one process per number is not feasible due to enormous memory overhead, resulting in a memory allocation error.\n",
    "\n",
    "<span class=\"styled-title\">Multiprocessing Pool:</span>\n",
    "\n",
    "  Using **Pool.map()** is the most efficient among the parallel methods tested (0.14 sec), though it’s still slower than the sequential version because of process management overhead.\n",
    "\n",
    "  Using **Pool.apply()** is highly inefficient (164.69 sec) due to the blocking nature of each call.\n",
    "\n",
    "<span class=\"styled-title\">Concurrent Futures:</span>\n",
    "\n",
    "  This method also suffers from high overhead (107.75 sec) compared to **Pool.map()**."
   ]
  },
  {
   "cell_type": "markdown",
   "metadata": {},
   "source": [
    "## **Test 2: 10⁷ Integers List**"
   ]
  },
  {
   "cell_type": "code",
   "execution_count": 3,
   "metadata": {},
   "outputs": [],
   "source": [
    "# Create a list of 10⁷ random integers (range 1 to 100)\n",
    "numbers7 = [random.randint(1, 100) for _ in range(10**7)]"
   ]
  },
  {
   "cell_type": "markdown",
   "metadata": {},
   "source": [
    "### **Sequential Version**"
   ]
  },
  {
   "cell_type": "code",
   "execution_count": 17,
   "metadata": {},
   "outputs": [
    {
     "name": "stdout",
     "output_type": "stream",
     "text": [
      "First 10 list elements: [18, 8, 60, 11, 78, 1, 35, 11, 72, 17]\n",
      "\n",
      "First 10 result elements: [324, 64, 3600, 121, 6084, 1, 1225, 121, 5184, 289]\n",
      "\n",
      "Sequential execution time for 10⁷ numbers: 0.5350 seconds\n"
     ]
    }
   ],
   "source": [
    "start_seq = time.time()\n",
    "results_seq = [square(n) for n in numbers7]\n",
    "end_seq = time.time()\n",
    "seq_time = end_seq - start_seq\n",
    "\n",
    "print(f\"First 10 list elements: {numbers7[:10]}\")\n",
    "print(f\"\\nFirst 10 result elements: {results_seq[:10]}\")\n",
    "print(f\"\\nSequential execution time for 10⁷ numbers: {seq_time:.4f} seconds\")"
   ]
  },
  {
   "cell_type": "markdown",
   "metadata": {},
   "source": [
    "### **Multiprocessing Version (Process per Number)**"
   ]
  },
  {
   "cell_type": "code",
   "execution_count": null,
   "metadata": {},
   "outputs": [],
   "source": [
    "def worker_square(n, output, index):\n",
    "    output[index] = square(n)\n",
    "\n",
    "manager = multiprocessing.Manager()\n",
    "output = manager.list([0] * len(numbers7))\n",
    "processes = []\n",
    "\n",
    "start_mp1 = time.time()\n",
    "for idx, num in enumerate(numbers7):\n",
    "    p = multiprocessing.Process(target=worker_square, args=(num, output, idx))\n",
    "    processes.append(p)\n",
    "    p.start()\n",
    "    \n",
    "for p in processes:\n",
    "    p.join()\n",
    "end_mp1 = time.time()\n",
    "mp1_time = end_mp1 - start_mp1\n",
    "\n",
    "print(f\"First 10 list elements: {numbers7[:10]}\")\n",
    "print(f\"\\nFirst 10 result elements: {list(output)[:10]}\")\n",
    "print(f\"\\nProcess per number multiprocessing execution time for 10⁷ numbers: {mp1_time:.4f} seconds\")"
   ]
  },
  {
   "cell_type": "markdown",
   "metadata": {},
   "source": [
    "### **Multiprocessing Synchronous Version (Pooling with map())**"
   ]
  },
  {
   "cell_type": "code",
   "execution_count": 18,
   "metadata": {},
   "outputs": [
    {
     "name": "stdout",
     "output_type": "stream",
     "text": [
      "First 10 list elements: [18, 8, 60, 11, 78, 1, 35, 11, 72, 17]\n",
      "\n",
      "First 10 result elements: [324, 64, 3600, 121, 6084, 1, 1225, 121, 5184, 289]\n",
      "\n",
      "Pooling with map() multiprocessing execution time for 10⁷ numbers: 1.1927 seconds\n"
     ]
    }
   ],
   "source": [
    "start_mp2 = time.time()\n",
    "with multiprocessing.Pool() as pool:\n",
    "    results_map = pool.map(square, numbers7)\n",
    "end_mp2 = time.time()\n",
    "mp2_time = end_mp2 - start_mp2\n",
    "\n",
    "print(f\"First 10 list elements: {numbers7[:10]}\")\n",
    "print(f\"\\nFirst 10 result elements: {list(results_map)[:10]}\")\n",
    "print(f\"\\nPooling with map() multiprocessing execution time for 10⁷ numbers: {mp2_time:.4f} seconds\")"
   ]
  },
  {
   "cell_type": "markdown",
   "metadata": {},
   "source": [
    "### **Multiprocessing Asynchronous Version (Pooling with map())**"
   ]
  },
  {
   "cell_type": "code",
   "execution_count": 19,
   "metadata": {},
   "outputs": [
    {
     "name": "stdout",
     "output_type": "stream",
     "text": [
      "First 10 list elements: [18, 8, 60, 11, 78, 1, 35, 11, 72, 17]\n",
      "\n",
      "First 10 result elements: [324, 64, 3600, 121, 6084, 1, 1225, 121, 5184, 289]\n",
      "\n",
      "Pooling with map_async() multiprocessing execution time for 10⁷ numbers: 1.0862 seconds\n"
     ]
    }
   ],
   "source": [
    "start_mp2_async = time.time()\n",
    "with multiprocessing.Pool() as pool:\n",
    "    async_result = pool.map_async(square, numbers7)\n",
    "    results_map_async = async_result.get()\n",
    "end_mp2_async = time.time()\n",
    "mp2_async_time = end_mp2_async - start_mp2_async\n",
    "\n",
    "print(f\"First 10 list elements: {numbers7[:10]}\")\n",
    "print(f\"\\nFirst 10 result elements: {results_map_async[:10]}\")\n",
    "print(f\"\\nPooling with map_async() multiprocessing execution time for 10⁷ numbers: {mp2_async_time:.4f} seconds\")"
   ]
  },
  {
   "cell_type": "markdown",
   "metadata": {},
   "source": [
    "### **Multiprocessing Synchronous Version (Pooling with apply())**"
   ]
  },
  {
   "cell_type": "code",
   "execution_count": 20,
   "metadata": {},
   "outputs": [
    {
     "name": "stdout",
     "output_type": "stream",
     "text": [
      "First 10 list elements: [18, 8, 60, 11, 78, 1, 35, 11, 72, 17]\n",
      "\n",
      "First 10 result elements: [324, 64, 3600, 121, 6084, 1, 1225, 121, 5184, 289]\n",
      "\n",
      "Pooling with apply() multiprocessing execution time for 10⁷ numbers: 1684.7950 seconds\n"
     ]
    }
   ],
   "source": [
    "start_mp3 = time.time()\n",
    "results_apply = []\n",
    "with multiprocessing.Pool() as pool:\n",
    "    for n in numbers7:\n",
    "        result = pool.apply(square, (n,))\n",
    "        results_apply.append(result)\n",
    "end_mp3 = time.time()\n",
    "mp3_time = end_mp3 - start_mp3\n",
    "\n",
    "print(f\"First 10 list elements: {numbers7[:10]}\")\n",
    "print(f\"\\nFirst 10 result elements: {results_map[:10]}\")\n",
    "print(f\"\\nPooling with apply() multiprocessing execution time for 10⁷ numbers: {mp3_time:.4f} seconds\")"
   ]
  },
  {
   "cell_type": "markdown",
   "metadata": {},
   "source": [
    "### **Multiprocessing Asynchronous Version (Pooling with apply())**"
   ]
  },
  {
   "cell_type": "code",
   "execution_count": 21,
   "metadata": {},
   "outputs": [
    {
     "name": "stdout",
     "output_type": "stream",
     "text": [
      "First 10 list elements: [18, 8, 60, 11, 78, 1, 35, 11, 72, 17]\n",
      "\n",
      "First 10 result elements: [324, 64, 3600, 121, 6084, 1, 1225, 121, 5184, 289]\n",
      "\n",
      "Pooling with apply_async() multiprocessing execution time for 10⁷ numbers: 533.6804 seconds\n"
     ]
    }
   ],
   "source": [
    "start_mp3_async = time.time()\n",
    "with multiprocessing.Pool() as pool:\n",
    "    async_results = [pool.apply_async(square, (n,)) for n in numbers7]\n",
    "    results_apply_async = [r.get() for r in async_results]\n",
    "end_mp3_async = time.time()\n",
    "mp3_async_time = end_mp3_async - start_mp3_async\n",
    "\n",
    "print(f\"First 10 list elements: {numbers7[:10]}\")\n",
    "print(f\"\\nFirst 10 result elements: {results_apply_async[:10]}\")\n",
    "print(f\"\\nPooling with apply_async() multiprocessing execution time for 10⁷ numbers: {mp3_async_time:.4f} seconds\")"
   ]
  },
  {
   "cell_type": "markdown",
   "metadata": {},
   "source": [
    "### **Multiprocessing Version (concurrent futures)**"
   ]
  },
  {
   "cell_type": "code",
   "execution_count": 4,
   "metadata": {},
   "outputs": [
    {
     "name": "stdout",
     "output_type": "stream",
     "text": [
      "First 10 list elements: [18, 96, 11, 97, 88, 3, 28, 97, 35, 6]\n",
      "\n",
      "First 10 result elements: [324, 9216, 121, 9409, 7744, 9, 784, 9409, 1225, 36]\n",
      "\n",
      "Pooling with concurrent futures multiprocessing execution time for 10⁷ numbers: 1099.2878 seconds\n"
     ]
    }
   ],
   "source": [
    "start_mp4 = time.time()\n",
    "with ProcessPoolExecutor() as executor:\n",
    "    results_executor = list(executor.map(square, numbers7))\n",
    "end_mp4 = time.time()\n",
    "mp4_time = end_mp4 - start_mp4\n",
    "\n",
    "print(f\"First 10 list elements: {numbers7[:10]}\")\n",
    "print(f\"\\nFirst 10 result elements: {results_executor[:10]}\")\n",
    "print(f\"\\nPooling with concurrent futures multiprocessing execution time for 10⁷ numbers: {mp4_time:.4f} seconds\")"
   ]
  },
  {
   "cell_type": "markdown",
   "metadata": {},
   "source": [
    "<style>\n",
    "    .styled-title {\n",
    "        font-weight: bold;\n",
    "        font-size: 12px;\n",
    "        color: #ffffff;\n",
    "        background: linear-gradient(135deg, #007BFF, #6610f2);\n",
    "        padding: 5px 10px;\n",
    "        border-radius: 8px;\n",
    "        display: inline-block;\n",
    "    }\n",
    "\n",
    "    .final-conclusion {\n",
    "        font-weight: bold;\n",
    "        font-size: 14px;\n",
    "        color: #ffffff;\n",
    "        background-color: #007BFF;\n",
    "        padding: 10px;\n",
    "        border-radius: 8px;\n",
    "        display: inline-block;\n",
    "        margin-top: 10px;\n",
    "    }\n",
    "</style>\n",
    "\n",
    "### **Conclusions for Squaring 10⁷ Integers**\n",
    "\n",
    "<span class=\"styled-title\">Sequential Execution:</span>\n",
    "\n",
    "  The sequential approach is also extremely fast (0.54 sec) for squaring 10⁷ numbers because the computation itself is trivial and avoids parallel overhead.\n",
    "\n",
    "<span class=\"styled-title\">Process per Number:</span>\n",
    "\n",
    "  Creating one process per number remains unfeasible due to extreme memory overhead, resulting in an **OSError (memory allocation failure)**. This approach is highly inefficient.\n",
    "\n",
    "<span class=\"styled-title\">Multiprocessing Pool:</span>\n",
    "\n",
    "  Using **Pool.map()** is again the most efficient parallel approach (1.19 sec), though it is still slower than sequential execution due to process management overhead.\n",
    "\n",
    "  Using **Pool.map_async()** slightly improves performance compared to the synchronous mapping (1.09 sec), benefiting from asynchronous execution.\n",
    "\n",
    "  Using **Pool.apply()** is highly inefficient (1684.80 sec) because it blocks execution for each number, making it significantly slower than all other methods.\n",
    "\n",
    "  Using **Pool.apply_async()** is an improvement over **apply()** (533.68 sec) but still much slower than **map()** due to individual function calls.\n",
    "\n",
    "<span class=\"styled-title\">Concurrent Futures:</span>\n",
    "\n",
    "  This method also suffers from high overhead (1099.29 sec) compared to **Pool.map()**, making it inefficient for such a simple computation.\n",
    "\n",
    "<span class=\"final-conclusion\">**Final Conclusion:**</span>\n",
    "\n",
    "For squaring large numbers, **sequential execution remains the fastest** due to minimal overhead. **Pool.map()** is the best parallel approach, but multiprocessing generally adds unnecessary complexity for simple arithmetic operations."
   ]
  },
  {
   "cell_type": "markdown",
   "metadata": {},
   "source": []
  }
 ],
 "metadata": {
  "kernelspec": {
   "display_name": "parallel",
   "language": "python",
   "name": "python3"
  },
  "language_info": {
   "codemirror_mode": {
    "name": "ipython",
    "version": 3
   },
   "file_extension": ".py",
   "mimetype": "text/x-python",
   "name": "python",
   "nbconvert_exporter": "python",
   "pygments_lexer": "ipython3",
   "version": "3.12.2"
  },
  "orig_nbformat": 4
 },
 "nbformat": 4,
 "nbformat_minor": 2
}
